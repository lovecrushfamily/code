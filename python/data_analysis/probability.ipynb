{
 "cells": [
  {
   "cell_type": "markdown",
   "metadata": {},
   "source": [
    "## Permutation and Combination\n",
    "\n",
    "Permutations and Combinations of a set of elements are different arrangements of the elements of the set.\n",
    "\n",
    "- Combination is a collection of the elements where the order doesn’t matter\n",
    "- Permutation is an arrangement of a set where the order does matter.\n"
   ]
  },
  {
   "cell_type": "code",
   "execution_count": 1,
   "metadata": {},
   "outputs": [],
   "source": [
    "import itertools\n"
   ]
  },
  {
   "cell_type": "code",
   "execution_count": 8,
   "metadata": {},
   "outputs": [],
   "source": [
    "val = [2,2,1,1]"
   ]
  },
  {
   "cell_type": "markdown",
   "metadata": {},
   "source": [
    "### Permutation of a set number"
   ]
  },
  {
   "cell_type": "code",
   "execution_count": 15,
   "metadata": {},
   "outputs": [
    {
     "data": {
      "text/plain": [
       "13"
      ]
     },
     "execution_count": 15,
     "metadata": {},
     "output_type": "execute_result"
    }
   ],
   "source": [
    "# perm_num_set = set(itertools.permutations(val))\n",
    "# perm_num_set\n",
    "\n",
    "\n",
    "def fib(n: int, f: int, s: int, i: int) :\n",
    "\n",
    "    if i == n:\n",
    "        return f + s\n",
    "    else :\n",
    "        return fib(n,s ,f+s, i+1)\n",
    "\n",
    "\n",
    "    \n",
    "\n",
    "fib(6,0,1,1)\n"
   ]
  },
  {
   "cell_type": "code",
   "execution_count": null,
   "metadata": {},
   "outputs": [],
   "source": [
    "\n"
   ]
  },
  {
   "cell_type": "markdown",
   "metadata": {},
   "source": [
    "### Permutations of a string"
   ]
  },
  {
   "cell_type": "code",
   "execution_count": 13,
   "metadata": {},
   "outputs": [
    {
     "data": {
      "text/plain": [
       "[('l', 'o', 'v', 'e'),\n",
       " ('l', 'o', 'e', 'v'),\n",
       " ('l', 'v', 'o', 'e'),\n",
       " ('l', 'v', 'e', 'o'),\n",
       " ('l', 'e', 'o', 'v'),\n",
       " ('l', 'e', 'v', 'o'),\n",
       " ('o', 'l', 'v', 'e'),\n",
       " ('o', 'l', 'e', 'v'),\n",
       " ('o', 'v', 'l', 'e'),\n",
       " ('o', 'v', 'e', 'l'),\n",
       " ('o', 'e', 'l', 'v'),\n",
       " ('o', 'e', 'v', 'l'),\n",
       " ('v', 'l', 'o', 'e'),\n",
       " ('v', 'l', 'e', 'o'),\n",
       " ('v', 'o', 'l', 'e'),\n",
       " ('v', 'o', 'e', 'l'),\n",
       " ('v', 'e', 'l', 'o'),\n",
       " ('v', 'e', 'o', 'l'),\n",
       " ('e', 'l', 'o', 'v'),\n",
       " ('e', 'l', 'v', 'o'),\n",
       " ('e', 'o', 'l', 'v'),\n",
       " ('e', 'o', 'v', 'l'),\n",
       " ('e', 'v', 'l', 'o'),\n",
       " ('e', 'v', 'o', 'l')]"
      ]
     },
     "execution_count": 13,
     "metadata": {},
     "output_type": "execute_result"
    }
   ],
   "source": [
    "string = \"love\"\n",
    "perm_str = list(itertools.permutations(string))\n",
    "perm_str"
   ]
  },
  {
   "cell_type": "markdown",
   "metadata": {},
   "source": [
    "### Permutation of fixed length = chinh hop"
   ]
  },
  {
   "cell_type": "code",
   "execution_count": 35,
   "metadata": {},
   "outputs": [
    {
     "data": {
      "text/plain": [
       "[(2, 2),\n",
       " (2, 1),\n",
       " (2, 1),\n",
       " (2, 2),\n",
       " (2, 1),\n",
       " (2, 1),\n",
       " (1, 2),\n",
       " (1, 2),\n",
       " (1, 1),\n",
       " (1, 2),\n",
       " (1, 2),\n",
       " (1, 1)]"
      ]
     },
     "execution_count": 35,
     "metadata": {},
     "output_type": "execute_result"
    }
   ],
   "source": [
    "perm_num_set = list(itertools.permutations(val, 2))\n",
    "perm_num_set"
   ]
  },
  {
   "cell_type": "markdown",
   "metadata": {},
   "source": [
    "### Combinations of numeric data"
   ]
  },
  {
   "cell_type": "code",
   "execution_count": 6,
   "metadata": {},
   "outputs": [
    {
     "data": {
      "text/plain": [
       "[(2, 1, 1, 1)]"
      ]
     },
     "execution_count": 6,
     "metadata": {},
     "output_type": "execute_result"
    }
   ],
   "source": [
    "com_num_set = list(itertools.combinations([2,1,1,1], 2))\n",
    "com_num_set"
   ]
  },
  {
   "cell_type": "markdown",
   "metadata": {},
   "source": [
    "### Combinations with replacements"
   ]
  },
  {
   "cell_type": "code",
   "execution_count": 21,
   "metadata": {},
   "outputs": [
    {
     "data": {
      "text/plain": [
       "[(1, 1),\n",
       " (1, 3),\n",
       " (1, 4),\n",
       " (1, 5),\n",
       " (3, 3),\n",
       " (3, 4),\n",
       " (3, 5),\n",
       " (4, 4),\n",
       " (4, 5),\n",
       " (5, 5)]"
      ]
     },
     "execution_count": 21,
     "metadata": {},
     "output_type": "execute_result"
    }
   ],
   "source": [
    "com_set_replaced = list(itertools.combinations_with_replacement(val, 2))\n",
    "com_set_replaced"
   ]
  },
  {
   "cell_type": "code",
   "execution_count": 2,
   "metadata": {},
   "outputs": [],
   "source": [
    "def removeElement( nums, val: int) -> int:\n",
    "\n",
    "    nums = list(filter(lambda x : ( x != val) , nums))\n",
    "    return nums\n",
    "\n",
    "removeElement([0,1,2,2,3,0,4,2], 2)\n",
    "\n",
    "\n",
    "import tensorflow.keras as ks\n",
    "\n",
    "# import keras.layers\n",
    "\n"
   ]
  },
  {
   "cell_type": "code",
   "execution_count": 13,
   "metadata": {},
   "outputs": [
    {
     "name": "stdout",
     "output_type": "stream",
     "text": [
      "[1, 2, 2, 3, 5, 6]\n"
     ]
    }
   ],
   "source": []
  }
 ],
 "metadata": {
  "kernelspec": {
   "display_name": "base",
   "language": "python",
   "name": "python3"
  },
  "language_info": {
   "codemirror_mode": {
    "name": "ipython",
    "version": 3
   },
   "file_extension": ".py",
   "mimetype": "text/x-python",
   "name": "python",
   "nbconvert_exporter": "python",
   "pygments_lexer": "ipython3",
   "version": "3.12.2"
  }
 },
 "nbformat": 4,
 "nbformat_minor": 2
}
