{
 "cells": [
  {
   "cell_type": "markdown",
   "metadata": {},
   "source": [
    "## Permutation and Combination\n",
    "\n",
    "Permutations and Combinations of a set of elements are different arrangements of the elements of the set.\n",
    "\n",
    "- Combination is a collection of the elements where the order doesn’t matter\n",
    "- Permutation is an arrangement of a set where the order does matter.\n"
   ]
  },
  {
   "cell_type": "code",
   "execution_count": 1,
   "metadata": {},
   "outputs": [],
   "source": [
    "import itertools\n"
   ]
  },
  {
   "cell_type": "code",
   "execution_count": 2,
   "metadata": {},
   "outputs": [],
   "source": [
    "val = [1,3,4,5]"
   ]
  },
  {
   "cell_type": "markdown",
   "metadata": {},
   "source": [
    "### Permutation of a set number"
   ]
  },
  {
   "cell_type": "code",
   "execution_count": 9,
   "metadata": {},
   "outputs": [
    {
     "data": {
      "text/plain": [
       "[(1, 3, 4, 5),\n",
       " (1, 3, 5, 4),\n",
       " (1, 4, 3, 5),\n",
       " (1, 4, 5, 3),\n",
       " (1, 5, 3, 4),\n",
       " (1, 5, 4, 3),\n",
       " (3, 1, 4, 5),\n",
       " (3, 1, 5, 4),\n",
       " (3, 4, 1, 5),\n",
       " (3, 4, 5, 1),\n",
       " (3, 5, 1, 4),\n",
       " (3, 5, 4, 1),\n",
       " (4, 1, 3, 5),\n",
       " (4, 1, 5, 3),\n",
       " (4, 3, 1, 5),\n",
       " (4, 3, 5, 1),\n",
       " (4, 5, 1, 3),\n",
       " (4, 5, 3, 1),\n",
       " (5, 1, 3, 4),\n",
       " (5, 1, 4, 3),\n",
       " (5, 3, 1, 4),\n",
       " (5, 3, 4, 1),\n",
       " (5, 4, 1, 3),\n",
       " (5, 4, 3, 1)]"
      ]
     },
     "execution_count": 9,
     "metadata": {},
     "output_type": "execute_result"
    }
   ],
   "source": [
    "perm_num_set = list(itertools.permutations(val))\n",
    "perm_num_set"
   ]
  },
  {
   "cell_type": "markdown",
   "metadata": {},
   "source": [
    "### Permutations of a string"
   ]
  },
  {
   "cell_type": "code",
   "execution_count": 13,
   "metadata": {},
   "outputs": [
    {
     "data": {
      "text/plain": [
       "[('l', 'o', 'v', 'e'),\n",
       " ('l', 'o', 'e', 'v'),\n",
       " ('l', 'v', 'o', 'e'),\n",
       " ('l', 'v', 'e', 'o'),\n",
       " ('l', 'e', 'o', 'v'),\n",
       " ('l', 'e', 'v', 'o'),\n",
       " ('o', 'l', 'v', 'e'),\n",
       " ('o', 'l', 'e', 'v'),\n",
       " ('o', 'v', 'l', 'e'),\n",
       " ('o', 'v', 'e', 'l'),\n",
       " ('o', 'e', 'l', 'v'),\n",
       " ('o', 'e', 'v', 'l'),\n",
       " ('v', 'l', 'o', 'e'),\n",
       " ('v', 'l', 'e', 'o'),\n",
       " ('v', 'o', 'l', 'e'),\n",
       " ('v', 'o', 'e', 'l'),\n",
       " ('v', 'e', 'l', 'o'),\n",
       " ('v', 'e', 'o', 'l'),\n",
       " ('e', 'l', 'o', 'v'),\n",
       " ('e', 'l', 'v', 'o'),\n",
       " ('e', 'o', 'l', 'v'),\n",
       " ('e', 'o', 'v', 'l'),\n",
       " ('e', 'v', 'l', 'o'),\n",
       " ('e', 'v', 'o', 'l')]"
      ]
     },
     "execution_count": 13,
     "metadata": {},
     "output_type": "execute_result"
    }
   ],
   "source": [
    "string = \"love\"\n",
    "perm_str = list(itertools.permutations(string))\n",
    "perm_str"
   ]
  },
  {
   "cell_type": "markdown",
   "metadata": {},
   "source": [
    "### Permutation of fixed length = chinh hop"
   ]
  },
  {
   "cell_type": "code",
   "execution_count": 16,
   "metadata": {},
   "outputs": [
    {
     "data": {
      "text/plain": [
       "[(1, 3),\n",
       " (1, 4),\n",
       " (1, 5),\n",
       " (3, 1),\n",
       " (3, 4),\n",
       " (3, 5),\n",
       " (4, 1),\n",
       " (4, 3),\n",
       " (4, 5),\n",
       " (5, 1),\n",
       " (5, 3),\n",
       " (5, 4)]"
      ]
     },
     "execution_count": 16,
     "metadata": {},
     "output_type": "execute_result"
    }
   ],
   "source": [
    "perm_num_set = list(itertools.permutations(val, 2))\n",
    "perm_num_set"
   ]
  },
  {
   "cell_type": "markdown",
   "metadata": {},
   "source": [
    "### Combinations of numeric data"
   ]
  },
  {
   "cell_type": "code",
   "execution_count": 17,
   "metadata": {},
   "outputs": [
    {
     "data": {
      "text/plain": [
       "[(1, 3), (1, 4), (1, 5), (3, 4), (3, 5), (4, 5)]"
      ]
     },
     "execution_count": 17,
     "metadata": {},
     "output_type": "execute_result"
    }
   ],
   "source": [
    "com_num_set = list(itertools.combinations(val, 2))\n",
    "com_num_set"
   ]
  },
  {
   "cell_type": "markdown",
   "metadata": {},
   "source": [
    "### Combinations with replacements"
   ]
  },
  {
   "cell_type": "code",
   "execution_count": 21,
   "metadata": {},
   "outputs": [
    {
     "data": {
      "text/plain": [
       "[(1, 1),\n",
       " (1, 3),\n",
       " (1, 4),\n",
       " (1, 5),\n",
       " (3, 3),\n",
       " (3, 4),\n",
       " (3, 5),\n",
       " (4, 4),\n",
       " (4, 5),\n",
       " (5, 5)]"
      ]
     },
     "execution_count": 21,
     "metadata": {},
     "output_type": "execute_result"
    }
   ],
   "source": [
    "com_set_replaced = list(itertools.combinations_with_replacement(val, 2))\n",
    "com_set_replaced"
   ]
  },
  {
   "cell_type": "code",
   "execution_count": null,
   "metadata": {},
   "outputs": [],
   "source": [
    "itertools.dropwhile()"
   ]
  }
 ],
 "metadata": {
  "kernelspec": {
   "display_name": "base",
   "language": "python",
   "name": "python3"
  },
  "language_info": {
   "codemirror_mode": {
    "name": "ipython",
    "version": 3
   },
   "file_extension": ".py",
   "mimetype": "text/x-python",
   "name": "python",
   "nbconvert_exporter": "python",
   "pygments_lexer": "ipython3",
   "version": "3.12.2"
  }
 },
 "nbformat": 4,
 "nbformat_minor": 2
}
